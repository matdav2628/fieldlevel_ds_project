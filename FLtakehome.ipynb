{
 "cells": [
  {
   "cell_type": "code",
   "execution_count": 3,
   "id": "c670477d-8e6d-4f5e-90f1-214231a033d3",
   "metadata": {},
   "outputs": [],
   "source": [
    "import pandas as pd \n",
    "import matplotlib.pyplot as plt \n",
    "import numpy as np"
   ]
  },
  {
   "cell_type": "code",
   "execution_count": 4,
   "id": "efa2bea0-de42-454f-b129-1606dde11e2d",
   "metadata": {},
   "outputs": [
    {
     "data": {
      "text/html": [
       "<div>\n",
       "<style scoped>\n",
       "    .dataframe tbody tr th:only-of-type {\n",
       "        vertical-align: middle;\n",
       "    }\n",
       "\n",
       "    .dataframe tbody tr th {\n",
       "        vertical-align: top;\n",
       "    }\n",
       "\n",
       "    .dataframe thead th {\n",
       "        text-align: right;\n",
       "    }\n",
       "</style>\n",
       "<table border=\"1\" class=\"dataframe\">\n",
       "  <thead>\n",
       "    <tr style=\"text-align: right;\">\n",
       "      <th></th>\n",
       "      <th>UserId</th>\n",
       "      <th>DateOfActivityPST</th>\n",
       "      <th>ActivityCount</th>\n",
       "    </tr>\n",
       "  </thead>\n",
       "  <tbody>\n",
       "    <tr>\n",
       "      <th>0</th>\n",
       "      <td>241710509395</td>\n",
       "      <td>2019-09-24</td>\n",
       "      <td>29</td>\n",
       "    </tr>\n",
       "    <tr>\n",
       "      <th>1</th>\n",
       "      <td>241710509395</td>\n",
       "      <td>2020-09-11</td>\n",
       "      <td>60</td>\n",
       "    </tr>\n",
       "    <tr>\n",
       "      <th>2</th>\n",
       "      <td>435228414681</td>\n",
       "      <td>2018-01-06</td>\n",
       "      <td>12</td>\n",
       "    </tr>\n",
       "    <tr>\n",
       "      <th>3</th>\n",
       "      <td>435228414681</td>\n",
       "      <td>2018-04-20</td>\n",
       "      <td>20</td>\n",
       "    </tr>\n",
       "    <tr>\n",
       "      <th>4</th>\n",
       "      <td>435228414681</td>\n",
       "      <td>2018-05-10</td>\n",
       "      <td>136</td>\n",
       "    </tr>\n",
       "  </tbody>\n",
       "</table>\n",
       "</div>"
      ],
      "text/plain": [
       "         UserId DateOfActivityPST  ActivityCount\n",
       "0  241710509395        2019-09-24             29\n",
       "1  241710509395        2020-09-11             60\n",
       "2  435228414681        2018-01-06             12\n",
       "3  435228414681        2018-04-20             20\n",
       "4  435228414681        2018-05-10            136"
      ]
     },
     "execution_count": 4,
     "metadata": {},
     "output_type": "execute_result"
    }
   ],
   "source": [
    "df_activity = pd.read_csv('activity_data.csv')\n",
    "df_activity.head()"
   ]
  },
  {
   "cell_type": "code",
   "execution_count": 5,
   "id": "16ff43a8-b558-41f9-9526-ad248ddeb0d8",
   "metadata": {},
   "outputs": [
    {
     "data": {
      "text/html": [
       "<div>\n",
       "<style scoped>\n",
       "    .dataframe tbody tr th:only-of-type {\n",
       "        vertical-align: middle;\n",
       "    }\n",
       "\n",
       "    .dataframe tbody tr th {\n",
       "        vertical-align: top;\n",
       "    }\n",
       "\n",
       "    .dataframe thead th {\n",
       "        text-align: right;\n",
       "    }\n",
       "</style>\n",
       "<table border=\"1\" class=\"dataframe\">\n",
       "  <thead>\n",
       "    <tr style=\"text-align: right;\">\n",
       "      <th></th>\n",
       "      <th>LogId</th>\n",
       "      <th>EmailSentDateTimeUtc</th>\n",
       "      <th>EmailCampaignId</th>\n",
       "      <th>EmailOpenedDateTimeUtc</th>\n",
       "      <th>EmailClickedDateTimeUtc</th>\n",
       "      <th>UserId</th>\n",
       "      <th>ZipCode</th>\n",
       "      <th>AddressData</th>\n",
       "    </tr>\n",
       "  </thead>\n",
       "  <tbody>\n",
       "    <tr>\n",
       "      <th>0</th>\n",
       "      <td>208728980120</td>\n",
       "      <td>2019-07-31 15:13:25.817</td>\n",
       "      <td>792229022220</td>\n",
       "      <td>NaN</td>\n",
       "      <td>NaN</td>\n",
       "      <td>851332105693</td>\n",
       "      <td>NaN</td>\n",
       "      <td>NaN</td>\n",
       "    </tr>\n",
       "    <tr>\n",
       "      <th>1</th>\n",
       "      <td>292563123584</td>\n",
       "      <td>2019-08-02 02:15:52.447</td>\n",
       "      <td>866429603262</td>\n",
       "      <td>2019-08-02 15:16:01.7533333</td>\n",
       "      <td>NaN</td>\n",
       "      <td>369293054977</td>\n",
       "      <td>NaN</td>\n",
       "      <td>NaN</td>\n",
       "    </tr>\n",
       "    <tr>\n",
       "      <th>2</th>\n",
       "      <td>72552047640</td>\n",
       "      <td>2019-08-07 16:21:37.293</td>\n",
       "      <td>383130475294</td>\n",
       "      <td>NaN</td>\n",
       "      <td>NaN</td>\n",
       "      <td>938684493058</td>\n",
       "      <td>NaN</td>\n",
       "      <td>NaN</td>\n",
       "    </tr>\n",
       "    <tr>\n",
       "      <th>3</th>\n",
       "      <td>1089121462891</td>\n",
       "      <td>2019-08-07 16:38:03.323</td>\n",
       "      <td>792229022220</td>\n",
       "      <td>NaN</td>\n",
       "      <td>NaN</td>\n",
       "      <td>50233193142</td>\n",
       "      <td>NaN</td>\n",
       "      <td>NaN</td>\n",
       "    </tr>\n",
       "    <tr>\n",
       "      <th>4</th>\n",
       "      <td>828770719378</td>\n",
       "      <td>2019-08-12 11:45:43.293</td>\n",
       "      <td>479810600058</td>\n",
       "      <td>NaN</td>\n",
       "      <td>NaN</td>\n",
       "      <td>369293054977</td>\n",
       "      <td>NaN</td>\n",
       "      <td>NaN</td>\n",
       "    </tr>\n",
       "  </tbody>\n",
       "</table>\n",
       "</div>"
      ],
      "text/plain": [
       "           LogId     EmailSentDateTimeUtc  EmailCampaignId  \\\n",
       "0   208728980120  2019-07-31 15:13:25.817     792229022220   \n",
       "1   292563123584  2019-08-02 02:15:52.447     866429603262   \n",
       "2    72552047640  2019-08-07 16:21:37.293     383130475294   \n",
       "3  1089121462891  2019-08-07 16:38:03.323     792229022220   \n",
       "4   828770719378  2019-08-12 11:45:43.293     479810600058   \n",
       "\n",
       "        EmailOpenedDateTimeUtc EmailClickedDateTimeUtc        UserId  ZipCode  \\\n",
       "0                          NaN                     NaN  851332105693      NaN   \n",
       "1  2019-08-02 15:16:01.7533333                     NaN  369293054977      NaN   \n",
       "2                          NaN                     NaN  938684493058      NaN   \n",
       "3                          NaN                     NaN   50233193142      NaN   \n",
       "4                          NaN                     NaN  369293054977      NaN   \n",
       "\n",
       "  AddressData  \n",
       "0         NaN  \n",
       "1         NaN  \n",
       "2         NaN  \n",
       "3         NaN  \n",
       "4         NaN  "
      ]
     },
     "execution_count": 5,
     "metadata": {},
     "output_type": "execute_result"
    }
   ],
   "source": [
    "df_email = pd.read_csv('email_data.csv')\n",
    "df_email.head()"
   ]
  },
  {
   "cell_type": "markdown",
   "id": "20cdd5fb-ebc4-4d3c-9539-59f438c964a7",
   "metadata": {},
   "source": [
    "# Question 1: "
   ]
  },
  {
   "cell_type": "markdown",
   "id": "ff4b689e-d279-4515-a87e-2d737454d79f",
   "metadata": {},
   "source": [
    "## How many rows are there in the two datasets"
   ]
  },
  {
   "cell_type": "code",
   "execution_count": 17,
   "id": "d6508015-faf5-44a5-b978-e29c96f308ad",
   "metadata": {},
   "outputs": [
    {
     "name": "stdout",
     "output_type": "stream",
     "text": [
      "There are 4559973 rows in the activity_data dataset\n"
     ]
    }
   ],
   "source": [
    "count_row_activity = df_activity.shape[0] #number of rows in the activity_data dataset\n",
    "print(\"There are \" + str(count_row_activity) + \" rows in the activity_data dataset\")"
   ]
  },
  {
   "cell_type": "code",
   "execution_count": 18,
   "id": "8126dadf-5216-4d4a-b2b1-f892902c9fe0",
   "metadata": {},
   "outputs": [
    {
     "name": "stdout",
     "output_type": "stream",
     "text": [
      "There are 474163 rows in the email_data dataset\n"
     ]
    }
   ],
   "source": [
    "count_row_email = df_email.shape[0] #number of rows in the email_data dataset\n",
    "print(\"There are \" + str(count_row_email) + \" rows in the email_data dataset\")"
   ]
  },
  {
   "cell_type": "markdown",
   "id": "b6b8bc37-0288-4273-b249-723002a97374",
   "metadata": {},
   "source": [
    "## Number of emails sent "
   ]
  },
  {
   "cell_type": "code",
   "execution_count": 19,
   "id": "de33120f-d4ef-4879-87b9-36ded43d0b97",
   "metadata": {},
   "outputs": [
    {
     "name": "stdout",
     "output_type": "stream",
     "text": [
      "There were 474163 emails sent over this period\n"
     ]
    }
   ],
   "source": [
    "number_emails = len(df_email['LogId']) #total log of emails\n",
    "print(\"There were \" + str(number_emails) + \" emails sent over this period\")"
   ]
  },
  {
   "cell_type": "code",
   "execution_count": 20,
   "id": "063f0e09-aa13-49b5-823d-3b2401cbc9dd",
   "metadata": {},
   "outputs": [
    {
     "name": "stdout",
     "output_type": "stream",
     "text": [
      "The total number of emails sent is 15805433\n"
     ]
    }
   ],
   "source": [
    "total_num_emails = (number_emails / 0.03)\n",
    "print(\"The total number of emails sent is \" + str(round(total_num_emails,0))[0:8])"
   ]
  },
  {
   "cell_type": "markdown",
   "id": "caeb8d00-9cbd-47cc-9d13-ae4055fc3bd9",
   "metadata": {},
   "source": [
    "# Question 2"
   ]
  },
  {
   "cell_type": "markdown",
   "id": "42515f4f-ba0c-4e70-a5b3-7dfefe9430d2",
   "metadata": {},
   "source": [
    "## Earliest and most recent dates of emails sent in this dataset in California time (Pacific Standard Time Zone)?"
   ]
  },
  {
   "cell_type": "code",
   "execution_count": 21,
   "id": "49570211-0b68-4d30-ba5f-f8611c6a34bd",
   "metadata": {},
   "outputs": [],
   "source": [
    "from datetime import datetime"
   ]
  },
  {
   "cell_type": "markdown",
   "id": "d08dd84e-bf53-4a5f-b25d-f0fc12a83559",
   "metadata": {},
   "source": [
    "### Earliest"
   ]
  },
  {
   "cell_type": "code",
   "execution_count": 22,
   "id": "964640ba-cfa0-4d91-990e-8dd3c8357853",
   "metadata": {},
   "outputs": [],
   "source": [
    "earliest = df_email['EmailSentDateTimeUtc'].min() #extract the earliest date "
   ]
  },
  {
   "cell_type": "code",
   "execution_count": 23,
   "id": "9e33b417-454d-457c-9a9c-00ccbc6189a1",
   "metadata": {},
   "outputs": [
    {
     "name": "stdout",
     "output_type": "stream",
     "text": [
      "The earliest date of emails sent in this dataset is 01-04-2018 04:29 (PCT)\n"
     ]
    }
   ],
   "source": [
    "earliest = datetime.strptime(earliest, '%Y-%m-%d %H:%M:%S.%f') #converting a string to a Date type  \n",
    "earliest = pd.to_datetime(earliest, format= '%Y-%m-%d %H:%M:%S.%f').strftime('%m-%d-%Y %H:%M')\n",
    "print(\"The earliest date of emails sent in this dataset is \" + earliest + \" (PCT)\")"
   ]
  },
  {
   "cell_type": "markdown",
   "id": "e935ad78-0826-475b-af53-73319cf50be9",
   "metadata": {},
   "source": [
    "### Most recent "
   ]
  },
  {
   "cell_type": "code",
   "execution_count": 24,
   "id": "6d631557-33b6-4e06-8c23-a05e337b6e1a",
   "metadata": {},
   "outputs": [],
   "source": [
    "most_recent = df_email['EmailSentDateTimeUtc'].max() #extract the latest date"
   ]
  },
  {
   "cell_type": "code",
   "execution_count": 25,
   "id": "71ba8583-d079-4053-8659-4322a198cd85",
   "metadata": {},
   "outputs": [
    {
     "name": "stdout",
     "output_type": "stream",
     "text": [
      "The most recent date of emails sent in this dataset is 04-19-2021 13:45 (PCT)\n"
     ]
    }
   ],
   "source": [
    "most_recent = datetime.strptime(most_recent, '%Y-%m-%d %H:%M:%S.%f') #Converting a string to a Date format \n",
    "most_recent = pd.to_datetime(most_recent, format= '%Y-%m-%d %H:%M:%S.%f').strftime('%m-%d-%Y %H:%M')\n",
    "print(\"The most recent date of emails sent in this dataset is \" + most_recent + \" (PCT)\")"
   ]
  },
  {
   "cell_type": "markdown",
   "id": "f0d0b754-9015-4a6d-b7d6-4fbf63562000",
   "metadata": {},
   "source": [
    "# Question 3"
   ]
  },
  {
   "cell_type": "markdown",
   "id": "a01fcdf6-09c4-4352-9e53-2e0e789756e5",
   "metadata": {},
   "source": [
    "## 10 zip codes that received the most emails and how many emails they received"
   ]
  },
  {
   "cell_type": "code",
   "execution_count": 29,
   "id": "9201704e-7102-4b94-9ba8-8a92464e754e",
   "metadata": {},
   "outputs": [],
   "source": [
    "df_zc = df_email.groupby(['ZipCode']).count()['EmailCampaignId'].reset_index().sort_values(by= 'EmailCampaignId', ascending = False).head(10).reset_index(drop=True)"
   ]
  },
  {
   "cell_type": "code",
   "execution_count": 30,
   "id": "1fe5e008-cce7-4a1d-9ee9-415c2f2d1d47",
   "metadata": {},
   "outputs": [
    {
     "data": {
      "text/html": [
       "<div>\n",
       "<style scoped>\n",
       "    .dataframe tbody tr th:only-of-type {\n",
       "        vertical-align: middle;\n",
       "    }\n",
       "\n",
       "    .dataframe tbody tr th {\n",
       "        vertical-align: top;\n",
       "    }\n",
       "\n",
       "    .dataframe thead th {\n",
       "        text-align: right;\n",
       "    }\n",
       "</style>\n",
       "<table border=\"1\" class=\"dataframe\">\n",
       "  <thead>\n",
       "    <tr style=\"text-align: right;\">\n",
       "      <th></th>\n",
       "      <th>ZipCode</th>\n",
       "      <th>#Emails</th>\n",
       "    </tr>\n",
       "  </thead>\n",
       "  <tbody>\n",
       "    <tr>\n",
       "      <th>0</th>\n",
       "      <td>63301.0</td>\n",
       "      <td>312</td>\n",
       "    </tr>\n",
       "    <tr>\n",
       "      <th>1</th>\n",
       "      <td>33801.0</td>\n",
       "      <td>310</td>\n",
       "    </tr>\n",
       "    <tr>\n",
       "      <th>2</th>\n",
       "      <td>34210.0</td>\n",
       "      <td>299</td>\n",
       "    </tr>\n",
       "    <tr>\n",
       "      <th>3</th>\n",
       "      <td>38301.0</td>\n",
       "      <td>295</td>\n",
       "    </tr>\n",
       "    <tr>\n",
       "      <th>4</th>\n",
       "      <td>67460.0</td>\n",
       "      <td>285</td>\n",
       "    </tr>\n",
       "    <tr>\n",
       "      <th>5</th>\n",
       "      <td>95971.0</td>\n",
       "      <td>277</td>\n",
       "    </tr>\n",
       "    <tr>\n",
       "      <th>6</th>\n",
       "      <td>42301.0</td>\n",
       "      <td>266</td>\n",
       "    </tr>\n",
       "    <tr>\n",
       "      <th>7</th>\n",
       "      <td>36104.0</td>\n",
       "      <td>254</td>\n",
       "    </tr>\n",
       "    <tr>\n",
       "      <th>8</th>\n",
       "      <td>40769.0</td>\n",
       "      <td>234</td>\n",
       "    </tr>\n",
       "    <tr>\n",
       "      <th>9</th>\n",
       "      <td>85225.0</td>\n",
       "      <td>229</td>\n",
       "    </tr>\n",
       "  </tbody>\n",
       "</table>\n",
       "</div>"
      ],
      "text/plain": [
       "   ZipCode  #Emails\n",
       "0  63301.0      312\n",
       "1  33801.0      310\n",
       "2  34210.0      299\n",
       "3  38301.0      295\n",
       "4  67460.0      285\n",
       "5  95971.0      277\n",
       "6  42301.0      266\n",
       "7  36104.0      254\n",
       "8  40769.0      234\n",
       "9  85225.0      229"
      ]
     },
     "execution_count": 30,
     "metadata": {},
     "output_type": "execute_result"
    }
   ],
   "source": [
    "df_zc.rename(columns = {'EmailCampaignId':'#Emails'})"
   ]
  },
  {
   "cell_type": "markdown",
   "id": "e8754b93-f902-4e17-8775-e9c65f5c8d6b",
   "metadata": {},
   "source": [
    "# Question 4"
   ]
  },
  {
   "cell_type": "markdown",
   "id": "70d94418-869f-47b4-9718-a2e0d1d4dc45",
   "metadata": {},
   "source": [
    "## Plot two lines on a single graph."
   ]
  },
  {
   "cell_type": "markdown",
   "id": "0aa9009a-bcfe-4c3d-a666-d69d9d16a26a",
   "metadata": {},
   "source": [
    "### Total distinct users who were sent at least 1 email by month and year."
   ]
  },
  {
   "cell_type": "code",
   "execution_count": 8,
   "id": "7b729ef3-edcc-4aa6-b1d2-0874ff89f8b9",
   "metadata": {},
   "outputs": [],
   "source": [
    "df_email[\"new_date\"] = 0 #creating a new column in the dataset corresponding to the date in format \"Year-month\" "
   ]
  },
  {
   "cell_type": "code",
   "execution_count": 9,
   "id": "049cd73a-587e-49a2-b618-e0ae2d400544",
   "metadata": {},
   "outputs": [
    {
     "name": "stderr",
     "output_type": "stream",
     "text": [
      "/tmp/ipykernel_57/240894016.py:2: SettingWithCopyWarning: \n",
      "A value is trying to be set on a copy of a slice from a DataFrame\n",
      "\n",
      "See the caveats in the documentation: https://pandas.pydata.org/pandas-docs/stable/user_guide/indexing.html#returning-a-view-versus-a-copy\n",
      "  df_email[\"new_date\"][d] = df_email[\"EmailSentDateTimeUtc\"][d][0:7]\n"
     ]
    }
   ],
   "source": [
    "for d in range(len(df_email[\"EmailSentDateTimeUtc\"])):\n",
    "    df_email[\"new_date\"][d] = df_email[\"EmailSentDateTimeUtc\"][d][0:7]"
   ]
  },
  {
   "cell_type": "code",
   "execution_count": 11,
   "id": "49a319ef-0e2b-4c68-b626-c772b124aa61",
   "metadata": {},
   "outputs": [
    {
     "data": {
      "text/html": [
       "<div>\n",
       "<style scoped>\n",
       "    .dataframe tbody tr th:only-of-type {\n",
       "        vertical-align: middle;\n",
       "    }\n",
       "\n",
       "    .dataframe tbody tr th {\n",
       "        vertical-align: top;\n",
       "    }\n",
       "\n",
       "    .dataframe thead th {\n",
       "        text-align: right;\n",
       "    }\n",
       "</style>\n",
       "<table border=\"1\" class=\"dataframe\">\n",
       "  <thead>\n",
       "    <tr style=\"text-align: right;\">\n",
       "      <th></th>\n",
       "      <th>new_date</th>\n",
       "      <th>UserId</th>\n",
       "    </tr>\n",
       "  </thead>\n",
       "  <tbody>\n",
       "    <tr>\n",
       "      <th>0</th>\n",
       "      <td>2018-01</td>\n",
       "      <td>456</td>\n",
       "    </tr>\n",
       "    <tr>\n",
       "      <th>1</th>\n",
       "      <td>2018-02</td>\n",
       "      <td>555</td>\n",
       "    </tr>\n",
       "    <tr>\n",
       "      <th>2</th>\n",
       "      <td>2018-03</td>\n",
       "      <td>492</td>\n",
       "    </tr>\n",
       "    <tr>\n",
       "      <th>3</th>\n",
       "      <td>2018-04</td>\n",
       "      <td>507</td>\n",
       "    </tr>\n",
       "    <tr>\n",
       "      <th>4</th>\n",
       "      <td>2018-05</td>\n",
       "      <td>1217</td>\n",
       "    </tr>\n",
       "    <tr>\n",
       "      <th>5</th>\n",
       "      <td>2018-06</td>\n",
       "      <td>1999</td>\n",
       "    </tr>\n",
       "    <tr>\n",
       "      <th>6</th>\n",
       "      <td>2018-07</td>\n",
       "      <td>1991</td>\n",
       "    </tr>\n",
       "    <tr>\n",
       "      <th>7</th>\n",
       "      <td>2018-08</td>\n",
       "      <td>2345</td>\n",
       "    </tr>\n",
       "    <tr>\n",
       "      <th>8</th>\n",
       "      <td>2018-09</td>\n",
       "      <td>2643</td>\n",
       "    </tr>\n",
       "    <tr>\n",
       "      <th>9</th>\n",
       "      <td>2018-10</td>\n",
       "      <td>3371</td>\n",
       "    </tr>\n",
       "    <tr>\n",
       "      <th>10</th>\n",
       "      <td>2018-11</td>\n",
       "      <td>3883</td>\n",
       "    </tr>\n",
       "    <tr>\n",
       "      <th>11</th>\n",
       "      <td>2018-12</td>\n",
       "      <td>6654</td>\n",
       "    </tr>\n",
       "    <tr>\n",
       "      <th>12</th>\n",
       "      <td>2019-01</td>\n",
       "      <td>9401</td>\n",
       "    </tr>\n",
       "    <tr>\n",
       "      <th>13</th>\n",
       "      <td>2019-02</td>\n",
       "      <td>7423</td>\n",
       "    </tr>\n",
       "    <tr>\n",
       "      <th>14</th>\n",
       "      <td>2019-03</td>\n",
       "      <td>16956</td>\n",
       "    </tr>\n",
       "    <tr>\n",
       "      <th>15</th>\n",
       "      <td>2019-04</td>\n",
       "      <td>13084</td>\n",
       "    </tr>\n",
       "    <tr>\n",
       "      <th>16</th>\n",
       "      <td>2019-05</td>\n",
       "      <td>13517</td>\n",
       "    </tr>\n",
       "    <tr>\n",
       "      <th>17</th>\n",
       "      <td>2019-06</td>\n",
       "      <td>13348</td>\n",
       "    </tr>\n",
       "    <tr>\n",
       "      <th>18</th>\n",
       "      <td>2019-07</td>\n",
       "      <td>11677</td>\n",
       "    </tr>\n",
       "    <tr>\n",
       "      <th>19</th>\n",
       "      <td>2019-08</td>\n",
       "      <td>11190</td>\n",
       "    </tr>\n",
       "    <tr>\n",
       "      <th>20</th>\n",
       "      <td>2019-09</td>\n",
       "      <td>8434</td>\n",
       "    </tr>\n",
       "    <tr>\n",
       "      <th>21</th>\n",
       "      <td>2019-10</td>\n",
       "      <td>11881</td>\n",
       "    </tr>\n",
       "    <tr>\n",
       "      <th>22</th>\n",
       "      <td>2019-11</td>\n",
       "      <td>12028</td>\n",
       "    </tr>\n",
       "    <tr>\n",
       "      <th>23</th>\n",
       "      <td>2019-12</td>\n",
       "      <td>12053</td>\n",
       "    </tr>\n",
       "    <tr>\n",
       "      <th>24</th>\n",
       "      <td>2020-01</td>\n",
       "      <td>12443</td>\n",
       "    </tr>\n",
       "    <tr>\n",
       "      <th>25</th>\n",
       "      <td>2020-02</td>\n",
       "      <td>13274</td>\n",
       "    </tr>\n",
       "    <tr>\n",
       "      <th>26</th>\n",
       "      <td>2020-03</td>\n",
       "      <td>15664</td>\n",
       "    </tr>\n",
       "    <tr>\n",
       "      <th>27</th>\n",
       "      <td>2020-04</td>\n",
       "      <td>15621</td>\n",
       "    </tr>\n",
       "    <tr>\n",
       "      <th>28</th>\n",
       "      <td>2020-05</td>\n",
       "      <td>17032</td>\n",
       "    </tr>\n",
       "    <tr>\n",
       "      <th>29</th>\n",
       "      <td>2020-06</td>\n",
       "      <td>16747</td>\n",
       "    </tr>\n",
       "    <tr>\n",
       "      <th>30</th>\n",
       "      <td>2020-07</td>\n",
       "      <td>11860</td>\n",
       "    </tr>\n",
       "    <tr>\n",
       "      <th>31</th>\n",
       "      <td>2020-08</td>\n",
       "      <td>14055</td>\n",
       "    </tr>\n",
       "    <tr>\n",
       "      <th>32</th>\n",
       "      <td>2020-09</td>\n",
       "      <td>16015</td>\n",
       "    </tr>\n",
       "    <tr>\n",
       "      <th>33</th>\n",
       "      <td>2020-10</td>\n",
       "      <td>15832</td>\n",
       "    </tr>\n",
       "    <tr>\n",
       "      <th>34</th>\n",
       "      <td>2020-11</td>\n",
       "      <td>13778</td>\n",
       "    </tr>\n",
       "    <tr>\n",
       "      <th>35</th>\n",
       "      <td>2020-12</td>\n",
       "      <td>14637</td>\n",
       "    </tr>\n",
       "    <tr>\n",
       "      <th>36</th>\n",
       "      <td>2021-01</td>\n",
       "      <td>15086</td>\n",
       "    </tr>\n",
       "    <tr>\n",
       "      <th>37</th>\n",
       "      <td>2021-02</td>\n",
       "      <td>14464</td>\n",
       "    </tr>\n",
       "    <tr>\n",
       "      <th>38</th>\n",
       "      <td>2021-03</td>\n",
       "      <td>16371</td>\n",
       "    </tr>\n",
       "    <tr>\n",
       "      <th>39</th>\n",
       "      <td>2021-04</td>\n",
       "      <td>9891</td>\n",
       "    </tr>\n",
       "  </tbody>\n",
       "</table>\n",
       "</div>"
      ],
      "text/plain": [
       "   new_date  UserId\n",
       "0   2018-01     456\n",
       "1   2018-02     555\n",
       "2   2018-03     492\n",
       "3   2018-04     507\n",
       "4   2018-05    1217\n",
       "5   2018-06    1999\n",
       "6   2018-07    1991\n",
       "7   2018-08    2345\n",
       "8   2018-09    2643\n",
       "9   2018-10    3371\n",
       "10  2018-11    3883\n",
       "11  2018-12    6654\n",
       "12  2019-01    9401\n",
       "13  2019-02    7423\n",
       "14  2019-03   16956\n",
       "15  2019-04   13084\n",
       "16  2019-05   13517\n",
       "17  2019-06   13348\n",
       "18  2019-07   11677\n",
       "19  2019-08   11190\n",
       "20  2019-09    8434\n",
       "21  2019-10   11881\n",
       "22  2019-11   12028\n",
       "23  2019-12   12053\n",
       "24  2020-01   12443\n",
       "25  2020-02   13274\n",
       "26  2020-03   15664\n",
       "27  2020-04   15621\n",
       "28  2020-05   17032\n",
       "29  2020-06   16747\n",
       "30  2020-07   11860\n",
       "31  2020-08   14055\n",
       "32  2020-09   16015\n",
       "33  2020-10   15832\n",
       "34  2020-11   13778\n",
       "35  2020-12   14637\n",
       "36  2021-01   15086\n",
       "37  2021-02   14464\n",
       "38  2021-03   16371\n",
       "39  2021-04    9891"
      ]
     },
     "execution_count": 11,
     "metadata": {},
     "output_type": "execute_result"
    }
   ],
   "source": [
    "df_distinct = df_email.groupby([\"new_date\",\"UserId\"]).count().reset_index().groupby(\"new_date\").count().reset_index()[[\"new_date\",\"UserId\"]]\n",
    "df_distinct #Dataframe containing the date along the number of distinct users who were sent at least 1 email."
   ]
  },
  {
   "cell_type": "markdown",
   "id": "1e57c638-b666-41de-af47-475d0de1cd48",
   "metadata": {},
   "source": [
    "### Monthly percentage of users who were sent an email and were active the same day"
   ]
  },
  {
   "cell_type": "code",
   "execution_count": 12,
   "id": "8a4a6442-a8a2-4cc5-beea-8f4e12a6625e",
   "metadata": {},
   "outputs": [],
   "source": [
    "df_email[\"new_date_2\"] = 0 #creating a new column in the dataset corresponding to the date in format \"Year-month-day\""
   ]
  },
  {
   "cell_type": "code",
   "execution_count": 13,
   "id": "695ec940-8336-4f75-a449-220b1149a857",
   "metadata": {},
   "outputs": [
    {
     "name": "stderr",
     "output_type": "stream",
     "text": [
      "/tmp/ipykernel_57/267004913.py:5: SettingWithCopyWarning: \n",
      "A value is trying to be set on a copy of a slice from a DataFrame\n",
      "\n",
      "See the caveats in the documentation: https://pandas.pydata.org/pandas-docs/stable/user_guide/indexing.html#returning-a-view-versus-a-copy\n",
      "  df_email[\"new_date_2\"][d] = df_email[\"EmailSentDateTimeUtc\"][d][0:10]\n"
     ]
    }
   ],
   "source": [
    "for d in range(len(df_email[\"EmailSentDateTimeUtc\"])):\n",
    "    if (df_email[\"EmailSentDateTimeUtc\"][d] == 0):\n",
    "        df_email[\"new_date_2\"][d] = 0\n",
    "    else:\n",
    "        df_email[\"new_date_2\"][d] = df_email[\"EmailSentDateTimeUtc\"][d][0:10]"
   ]
  },
  {
   "cell_type": "code",
   "execution_count": 15,
   "id": "8a61a759-b369-423f-a3b2-ff90fd047548",
   "metadata": {},
   "outputs": [],
   "source": [
    "new_df = df_email[[\"UserId\",\"new_date\",\"new_date_2\"]]"
   ]
  },
  {
   "cell_type": "code",
   "execution_count": 16,
   "id": "879fa2a4-e5cb-4956-8b9a-38e497eaf3db",
   "metadata": {},
   "outputs": [],
   "source": [
    "df_activity[\"month\"] = 0 #creating a new column in the dataset corresponding to the date in format \"Year-month\""
   ]
  },
  {
   "cell_type": "code",
   "execution_count": 17,
   "id": "01ec7791-f0d2-4a1f-b47a-57ca39fddf97",
   "metadata": {},
   "outputs": [
    {
     "name": "stderr",
     "output_type": "stream",
     "text": [
      "/tmp/ipykernel_57/281767715.py:2: SettingWithCopyWarning: \n",
      "A value is trying to be set on a copy of a slice from a DataFrame\n",
      "\n",
      "See the caveats in the documentation: https://pandas.pydata.org/pandas-docs/stable/user_guide/indexing.html#returning-a-view-versus-a-copy\n",
      "  df_activity[\"month\"][d] = df_activity[\"DateOfActivityPST\"][d][0:7]\n"
     ]
    }
   ],
   "source": [
    "for d in range(len(df_activity[\"DateOfActivityPST\"])):\n",
    "    df_activity[\"month\"][d] = df_activity[\"DateOfActivityPST\"][d][0:7]"
   ]
  },
  {
   "cell_type": "code",
   "execution_count": 26,
   "id": "01c3841e-d7ce-4ec1-bb2f-9e9221a3e322",
   "metadata": {},
   "outputs": [
    {
     "data": {
      "text/plain": [
       "['2018-01',\n",
       " '2018-02',\n",
       " '2018-03',\n",
       " '2018-04',\n",
       " '2018-05',\n",
       " '2018-06',\n",
       " '2018-07',\n",
       " '2018-08',\n",
       " '2018-09',\n",
       " '2018-10']"
      ]
     },
     "execution_count": 26,
     "metadata": {},
     "output_type": "execute_result"
    }
   ],
   "source": [
    "import datetime\n",
    "l = list(df_email[\"new_date\"].unique())\n",
    "l = sorted(l, key=lambda x: datetime.datetime.strptime(x, '%Y-%m'))\n",
    "l[0:10] #Sorting the dates in the dataframe "
   ]
  },
  {
   "cell_type": "code",
   "execution_count": 27,
   "id": "8d97472e-464d-44e1-8fc8-e555126bff0a",
   "metadata": {},
   "outputs": [],
   "source": [
    "dic_perc = {} #Dictionary containing the dates with their corresponding percentage of users who were sent an email and were active the same day\n",
    "\n",
    "for d in l:  #Checking the c\n",
    "    new_df_2 = new_df[new_df[\"new_date\"] == d][[\"UserId\",\"new_date_2\"]]\n",
    "    new_df_2 = new_df_2.rename(columns = {\"new_date_2\": \"DateOfActivityPST\"})\n",
    "    new_activity = df_activity[df_activity[\"month\"] == d][[\"UserId\", \"DateOfActivityPST\"]]\n",
    "    df_merged = new_df_2.merge(new_activity) #Checking the users who were sent an email and were active the same day \n",
    "    df_merged = len(df_merged[\"UserId\"])  \n",
    "    dic_perc[d] = round(((df_merged)/len(new_df_2[\"UserId\"])) * 100,1) #Calculating the percentage of users "
   ]
  },
  {
   "cell_type": "code",
   "execution_count": 28,
   "id": "c5e32b7c-6182-4752-9a53-cef531bb11f9",
   "metadata": {},
   "outputs": [
    {
     "data": {
      "text/plain": [
       "{'2018-01': 46.9,\n",
       " '2018-02': 48.5,\n",
       " '2018-03': 48.5,\n",
       " '2018-04': 47.3,\n",
       " '2018-05': 30.7,\n",
       " '2018-06': 21.4,\n",
       " '2018-07': 19.2,\n",
       " '2018-08': 23.1,\n",
       " '2018-09': 30.0,\n",
       " '2018-10': 33.0,\n",
       " '2018-11': 31.9,\n",
       " '2018-12': 21.2,\n",
       " '2019-01': 19.9,\n",
       " '2019-02': 23.7,\n",
       " '2019-03': 15.5,\n",
       " '2019-04': 17.6,\n",
       " '2019-05': 18.6,\n",
       " '2019-06': 12.7,\n",
       " '2019-07': 11.8,\n",
       " '2019-08': 14.4,\n",
       " '2019-09': 22.1,\n",
       " '2019-10': 19.1,\n",
       " '2019-11': 19.1,\n",
       " '2019-12': 18.3,\n",
       " '2020-01': 19.8,\n",
       " '2020-02': 18.4,\n",
       " '2020-03': 16.7,\n",
       " '2020-04': 24.5,\n",
       " '2020-05': 21.4,\n",
       " '2020-06': 17.0,\n",
       " '2020-07': 16.9,\n",
       " '2020-08': 14.8,\n",
       " '2020-09': 17.1,\n",
       " '2020-10': 18.1,\n",
       " '2020-11': 17.1,\n",
       " '2020-12': 16.7,\n",
       " '2021-01': 17.4,\n",
       " '2021-02': 18.7,\n",
       " '2021-03': 17.7,\n",
       " '2021-04': 17.0}"
      ]
     },
     "execution_count": 28,
     "metadata": {},
     "output_type": "execute_result"
    }
   ],
   "source": [
    "dic_perc"
   ]
  },
  {
   "cell_type": "code",
   "execution_count": 50,
   "id": "91e23f58-74ad-42aa-877f-698290415c5d",
   "metadata": {},
   "outputs": [
    {
     "data": {
      "text/html": [
       "<div>\n",
       "<style scoped>\n",
       "    .dataframe tbody tr th:only-of-type {\n",
       "        vertical-align: middle;\n",
       "    }\n",
       "\n",
       "    .dataframe tbody tr th {\n",
       "        vertical-align: top;\n",
       "    }\n",
       "\n",
       "    .dataframe thead th {\n",
       "        text-align: right;\n",
       "    }\n",
       "</style>\n",
       "<table border=\"1\" class=\"dataframe\">\n",
       "  <thead>\n",
       "    <tr style=\"text-align: right;\">\n",
       "      <th></th>\n",
       "      <th>date</th>\n",
       "      <th>monthly_percentage</th>\n",
       "    </tr>\n",
       "  </thead>\n",
       "  <tbody>\n",
       "    <tr>\n",
       "      <th>0</th>\n",
       "      <td>2018-01</td>\n",
       "      <td>46.9</td>\n",
       "    </tr>\n",
       "    <tr>\n",
       "      <th>1</th>\n",
       "      <td>2018-02</td>\n",
       "      <td>48.5</td>\n",
       "    </tr>\n",
       "    <tr>\n",
       "      <th>2</th>\n",
       "      <td>2018-03</td>\n",
       "      <td>48.5</td>\n",
       "    </tr>\n",
       "    <tr>\n",
       "      <th>3</th>\n",
       "      <td>2018-04</td>\n",
       "      <td>47.3</td>\n",
       "    </tr>\n",
       "    <tr>\n",
       "      <th>4</th>\n",
       "      <td>2018-05</td>\n",
       "      <td>30.7</td>\n",
       "    </tr>\n",
       "  </tbody>\n",
       "</table>\n",
       "</div>"
      ],
      "text/plain": [
       "      date  monthly_percentage\n",
       "0  2018-01                46.9\n",
       "1  2018-02                48.5\n",
       "2  2018-03                48.5\n",
       "3  2018-04                47.3\n",
       "4  2018-05                30.7"
      ]
     },
     "execution_count": 50,
     "metadata": {},
     "output_type": "execute_result"
    }
   ],
   "source": [
    "data_items = dic_perc.items()\n",
    "data_list = list(data_items)\n",
    "\n",
    "df = pd.DataFrame(data_list)\n",
    "df = df.rename(columns = {0:\"date\",1: \"monthly_percentage\"})\n",
    "df.head() #Converting the dictionary into a dataframe "
   ]
  },
  {
   "cell_type": "code",
   "execution_count": 51,
   "id": "226d4212-3cb6-465a-b3df-7f6ca47dbc84",
   "metadata": {},
   "outputs": [
    {
     "data": {
      "text/html": [
       "<div>\n",
       "<style scoped>\n",
       "    .dataframe tbody tr th:only-of-type {\n",
       "        vertical-align: middle;\n",
       "    }\n",
       "\n",
       "    .dataframe tbody tr th {\n",
       "        vertical-align: top;\n",
       "    }\n",
       "\n",
       "    .dataframe thead th {\n",
       "        text-align: right;\n",
       "    }\n",
       "</style>\n",
       "<table border=\"1\" class=\"dataframe\">\n",
       "  <thead>\n",
       "    <tr style=\"text-align: right;\">\n",
       "      <th></th>\n",
       "      <th>date</th>\n",
       "      <th>#Users</th>\n",
       "    </tr>\n",
       "  </thead>\n",
       "  <tbody>\n",
       "    <tr>\n",
       "      <th>0</th>\n",
       "      <td>2018-01</td>\n",
       "      <td>456</td>\n",
       "    </tr>\n",
       "    <tr>\n",
       "      <th>1</th>\n",
       "      <td>2018-02</td>\n",
       "      <td>555</td>\n",
       "    </tr>\n",
       "    <tr>\n",
       "      <th>2</th>\n",
       "      <td>2018-03</td>\n",
       "      <td>492</td>\n",
       "    </tr>\n",
       "    <tr>\n",
       "      <th>3</th>\n",
       "      <td>2018-04</td>\n",
       "      <td>507</td>\n",
       "    </tr>\n",
       "    <tr>\n",
       "      <th>4</th>\n",
       "      <td>2018-05</td>\n",
       "      <td>1217</td>\n",
       "    </tr>\n",
       "  </tbody>\n",
       "</table>\n",
       "</div>"
      ],
      "text/plain": [
       "      date  #Users\n",
       "0  2018-01     456\n",
       "1  2018-02     555\n",
       "2  2018-03     492\n",
       "3  2018-04     507\n",
       "4  2018-05    1217"
      ]
     },
     "execution_count": 51,
     "metadata": {},
     "output_type": "execute_result"
    }
   ],
   "source": [
    "df_distinct = df_distinct.rename(columns={\"new_date\":\"date\",\"UserId\":\"#Users\"})\n",
    "df_distinct.head()"
   ]
  },
  {
   "cell_type": "markdown",
   "id": "fb96423b-95a7-4dc2-a1c4-04b3435e07b9",
   "metadata": {},
   "source": [
    "### Plot two lines on a single graph"
   ]
  },
  {
   "cell_type": "code",
   "execution_count": 49,
   "id": "cfe94a51-19de-43c5-99fe-fa9c7321147e",
   "metadata": {},
   "outputs": [
    {
     "data": {
      "image/png": "[encoded data removed]",
      "text/plain": [
       "<Figure size 1332x756 with 2 Axes>"
      ]
     },
     "metadata": {
      "needs_background": "light"
     },
     "output_type": "display_data"
    }
   ],
   "source": [
    "fig, ax = plt.subplots()\n",
    "ax2 = ax.twinx()\n",
    "fig.set_size_inches(18.5, 10.5)\n",
    "df.plot(x= \"date\", y= \"monthly_percentage\", ax=ax)\n",
    "df_distinct.plot(x=\"date\", y= \"#Users\" , ax=ax2, color = \"red\")\n",
    "\n",
    "ax.legend(loc='upper left')\n",
    "ax2.legend(loc='lower right')\n",
    "plt.show()"
   ]
  },
  {
   "cell_type": "code",
   "execution_count": null,
   "id": "1a97dc6f-bd2c-4010-b724-28982ca4f430",
   "metadata": {},
   "outputs": [],
   "source": []
  }
 ],
 "metadata": {
  "kernelspec": {
   "display_name": "Python 3 (ipykernel)",
   "language": "python",
   "name": "python3"
  },
  "language_info": {
   "codemirror_mode": {
    "name": "ipython",
    "version": 3
   },
   "file_extension": ".py",
   "mimetype": "text/x-python",
   "name": "python",
   "nbconvert_exporter": "python",
   "pygments_lexer": "ipython3",
   "version": "3.9.7"
  }
 },
 "nbformat": 4,
 "nbformat_minor": 5
}
